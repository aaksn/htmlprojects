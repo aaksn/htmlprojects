{
 "cells": [
  {
   "cell_type": "markdown",
   "metadata": {},
   "source": [
    "# Используя срезы выполнить"
   ]
  },
  {
   "cell_type": "markdown",
   "metadata": {},
   "source": [
    "Вартиант 1. l1 – список. Удалить из l1 вторую половину элементов"
   ]
  },
  {
   "cell_type": "code",
   "execution_count": 1,
   "metadata": {},
   "outputs": [
    {
     "data": {
      "text/plain": [
       "[0, 1, 2, 3, 4, 5, 6, 7, 8, 9, 10, 11, 12, 13, 14, 15, 16, 17, 18, 19]"
      ]
     },
     "execution_count": 1,
     "metadata": {},
     "output_type": "execute_result"
    }
   ],
   "source": [
    "l1=list(range(20))\n",
    "l1"
   ]
  },
  {
   "cell_type": "code",
   "execution_count": 4,
   "metadata": {},
   "outputs": [
    {
     "data": {
      "text/plain": [
       "[10, 11]"
      ]
     },
     "execution_count": 4,
     "metadata": {},
     "output_type": "execute_result"
    }
   ],
   "source": [
    "del l1[len(l1)//2:]\n",
    "l1"
   ]
  },
  {
   "cell_type": "markdown",
   "metadata": {},
   "source": [
    "Вартиант 2. t1 – кортеж. Создать кортеж r1, состоящий из каждого третьего элемента, начиная с нулевого"
   ]
  },
  {
   "cell_type": "code",
   "execution_count": 5,
   "metadata": {},
   "outputs": [
    {
     "data": {
      "text/plain": [
       "(0, 1, 2, 3, 4, 5, 6, 7, 8, 9, 10, 11, 12, 13, 14, 15, 16, 17, 18, 19)"
      ]
     },
     "execution_count": 5,
     "metadata": {},
     "output_type": "execute_result"
    }
   ],
   "source": [
    "t1=tuple(range(20))\n",
    "t1"
   ]
  },
  {
   "cell_type": "code",
   "execution_count": 6,
   "metadata": {},
   "outputs": [
    {
     "data": {
      "text/plain": [
       "(0, 3, 6, 9, 12, 15, 18)"
      ]
     },
     "execution_count": 6,
     "metadata": {},
     "output_type": "execute_result"
    }
   ],
   "source": [
    "r1=t1[::3]\n",
    "r1"
   ]
  },
  {
   "cell_type": "markdown",
   "metadata": {},
   "source": [
    "# Реализовать генератор"
   ]
  },
  {
   "cell_type": "markdown",
   "metadata": {},
   "source": [
    "Вартиант 1. «Возвращающий» простые числа до n (n — параметр генератора). С помощью данного генератора составить кортеж простых чисел до 100 (одна строка кода)"
   ]
  },
  {
   "cell_type": "code",
   "execution_count": 8,
   "metadata": {},
   "outputs": [
    {
     "data": {
      "text/plain": [
       "(2,\n",
       " 3,\n",
       " 5,\n",
       " 7,\n",
       " 11,\n",
       " 13,\n",
       " 17,\n",
       " 19,\n",
       " 23,\n",
       " 29,\n",
       " 31,\n",
       " 37,\n",
       " 41,\n",
       " 43,\n",
       " 47,\n",
       " 53,\n",
       " 59,\n",
       " 61,\n",
       " 67,\n",
       " 71,\n",
       " 73,\n",
       " 79,\n",
       " 83,\n",
       " 89,\n",
       " 97)"
      ]
     },
     "execution_count": 8,
     "metadata": {},
     "output_type": "execute_result"
    }
   ],
   "source": [
    "def simple_digits(n):\n",
    "    for i in range(2, n+1):\n",
    "        is_simple = True\n",
    "        for j in range(2, i):\n",
    "            if i % j == 0:\n",
    "                is_simple = False\n",
    "                break\n",
    "        if is_simple:\n",
    "            yield i\n",
    "\n",
    "res = tuple(simple_digits(100))\n",
    "res"
   ]
  },
  {
   "cell_type": "markdown",
   "metadata": {},
   "source": [
    "Вартиант 2. «Возвращающий» в порядке расположения (с повторами) цифры, которые есть в строке str (str — параметр генератора).\n",
    "С помощью данного генератора составить множество цифр из строки str (одна строка кода).\n",
    "Для проверки строки(символа) на число можно использовать метод .isdigit()"
   ]
  },
  {
   "cell_type": "code",
   "execution_count": 10,
   "metadata": {},
   "outputs": [
    {
     "data": {
      "text/plain": [
       "{0, 1, 2, 9}"
      ]
     },
     "execution_count": 10,
     "metadata": {},
     "output_type": "execute_result"
    }
   ],
   "source": [
    "def get_digits(str):\n",
    "    for chr in str:\n",
    "        if chr.isdigit():\n",
    "            yield int(chr)\n",
    "\n",
    "str1=\"Тестовыые данные 12290\"\n",
    "res = set(get_digits(str1))\n",
    "res"
   ]
  },
  {
   "cell_type": "markdown",
   "metadata": {},
   "source": [
    "# Написать генераторное выражение\n",
    "одной строчкой"
   ]
  },
  {
   "cell_type": "markdown",
   "metadata": {},
   "source": [
    "Вариант 1. Из списка/кортежа l1 выбрать элементы, которых нет в списке/кортеже l2"
   ]
  },
  {
   "cell_type": "code",
   "execution_count": 12,
   "metadata": {},
   "outputs": [
    {
     "data": {
      "text/plain": [
       "(10, -9, 4)"
      ]
     },
     "execution_count": 12,
     "metadata": {},
     "output_type": "execute_result"
    }
   ],
   "source": [
    "l1 = (10, 12, 18, 14, 47, 58, -9, 4)\n",
    "l2 = (80, 12, 18, 14, 47, 58, -79, 14)\n",
    "\n",
    "tuple(x for x in l1 if x not in l2)"
   ]
  },
  {
   "cell_type": "markdown",
   "metadata": {},
   "source": [
    "Вариант 2. Из списка/кортежа l2, состоящего из целых чисел, выбрать числа, которые делятся без остатка на 6"
   ]
  },
  {
   "cell_type": "code",
   "execution_count": 8,
   "metadata": {},
   "outputs": [
    {
     "data": {
      "text/plain": [
       "[12, 18]"
      ]
     },
     "execution_count": 8,
     "metadata": {},
     "output_type": "execute_result"
    }
   ],
   "source": [
    "[x for x in l2 if x % 6 == 0]"
   ]
  },
  {
   "cell_type": "markdown",
   "metadata": {},
   "source": [
    "# 4. Декоратор"
   ]
  },
  {
   "cell_type": "markdown",
   "metadata": {},
   "source": [
    "Вариант 1.\n",
    "Реализовать декоратор unstable, который с вероятностью 50% или вызывает функцию и возвращает ее результат или не вызывает и возвращает None"
   ]
  },
  {
   "cell_type": "code",
   "execution_count": 9,
   "metadata": {},
   "outputs": [
    {
     "data": {
      "text/plain": [
       "False"
      ]
     },
     "execution_count": 9,
     "metadata": {},
     "output_type": "execute_result"
    }
   ],
   "source": [
    "# Вероятность 50% можно получить:\n",
    "import random as rnd\n",
    "rnd.randint(0, 1) > 0"
   ]
  },
  {
   "cell_type": "code",
   "execution_count": 10,
   "metadata": {},
   "outputs": [],
   "source": [
    "import random as rnd\n",
    "def unstable(func):\n",
    "    def returnee(*args, **kwargs):            \n",
    "        if rnd.randint(0, 1) > 0:\n",
    "            return func(*args, **kwargs)\n",
    "\n",
    "    return returnee"
   ]
  },
  {
   "cell_type": "code",
   "execution_count": 11,
   "metadata": {},
   "outputs": [],
   "source": [
    "@unstable\n",
    "def add(a, b):\n",
    "    return a + b"
   ]
  },
  {
   "cell_type": "code",
   "execution_count": 12,
   "metadata": {},
   "outputs": [],
   "source": [
    "add(5, 8)"
   ]
  },
  {
   "cell_type": "markdown",
   "metadata": {},
   "source": [
    "Вариант 2.\n",
    "Реализовать декоратор repeater, с параметром n, который повторяет выполнение функции n раз и возвращает последний результат её выполнения"
   ]
  },
  {
   "cell_type": "code",
   "execution_count": 13,
   "metadata": {},
   "outputs": [],
   "source": [
    "def repeater(n):\n",
    "    def returnee(func):\n",
    "        def decorator(*args, **kwargs):\n",
    "            res = None\n",
    "            for i in range(n):\n",
    "                res = func(*args, **kwargs)\n",
    "            return res\n",
    "        return decorator\n",
    "    return returnee"
   ]
  },
  {
   "cell_type": "code",
   "execution_count": 14,
   "metadata": {},
   "outputs": [
    {
     "name": "stdout",
     "output_type": "stream",
     "text": [
      "Hello World\n",
      "Hello World\n",
      "Hello World\n"
     ]
    }
   ],
   "source": [
    "@repeater(3)\n",
    "def my_print(str):\n",
    "    print(str)\n",
    "\n",
    "my_print('Hello World')"
   ]
  },
  {
   "cell_type": "markdown",
   "metadata": {},
   "source": [
    "# 5. Функциональный подход\n",
    "Для матрицы m в виде списка списков или кортежа кортежей"
   ]
  },
  {
   "cell_type": "code",
   "execution_count": 15,
   "metadata": {},
   "outputs": [],
   "source": [
    "m = [[14, 15, 78], [14, 78, 26], [17, 69, -9], [0, 4, 8]]"
   ]
  },
  {
   "cell_type": "markdown",
   "metadata": {},
   "source": [
    "Вариант 1.\n",
    "\n",
    "С помощью map выбрать в виде списка c1 первый столбец из матрицы.\n",
    "\n",
    "С помощью zip создать новую транспонированную матрицу m_r в виде списка списков."
   ]
  },
  {
   "cell_type": "code",
   "execution_count": 16,
   "metadata": {},
   "outputs": [
    {
     "data": {
      "text/plain": [
       "[14, 14, 17, 0]"
      ]
     },
     "execution_count": 16,
     "metadata": {},
     "output_type": "execute_result"
    }
   ],
   "source": [
    "list(map(lambda row: row[0], m))"
   ]
  },
  {
   "cell_type": "code",
   "execution_count": 17,
   "metadata": {},
   "outputs": [
    {
     "data": {
      "text/plain": [
       "[[14, 14, 17, 0], [15, 78, 69, 4], [78, 26, -9, 8]]"
      ]
     },
     "execution_count": 17,
     "metadata": {},
     "output_type": "execute_result"
    }
   ],
   "source": [
    "m_r = [list(col) for col in zip(*m)]\n",
    "m_r"
   ]
  },
  {
   "cell_type": "markdown",
   "metadata": {},
   "source": [
    "Вариант 2.\n",
    "\n",
    "Отсортировать строки матрицы по сумме элементов, а затем по максимальному элементу.\n",
    "\n",
    "С помощью zip создать новую транспонированную матрицу m_r в виде кортежа кортежей."
   ]
  },
  {
   "cell_type": "code",
   "execution_count": 18,
   "metadata": {},
   "outputs": [
    {
     "data": {
      "text/plain": [
       "[[0, 4, 8], [17, 69, -9], [14, 15, 78], [14, 78, 26]]"
      ]
     },
     "execution_count": 18,
     "metadata": {},
     "output_type": "execute_result"
    }
   ],
   "source": [
    "sorted(m, key=lambda row: (sum(row), max(row)))"
   ]
  },
  {
   "cell_type": "code",
   "execution_count": 19,
   "metadata": {},
   "outputs": [
    {
     "data": {
      "text/plain": [
       "((14, 14, 17, 0), (15, 78, 69, 4), (78, 26, -9, 8))"
      ]
     },
     "execution_count": 19,
     "metadata": {},
     "output_type": "execute_result"
    }
   ],
   "source": [
    "tuple(zip(*m))"
   ]
  },
  {
   "cell_type": "markdown",
   "metadata": {},
   "source": [
    "# 6. Словари и другие структуры данных"
   ]
  },
  {
   "cell_type": "markdown",
   "metadata": {},
   "source": [
    "Вариант 1.\n",
    "В файле input.txt на каждой строке через пробел записано несколько чисел\n",
    "Распечатать те строки, где количество различных чисел максимально"
   ]
  },
  {
   "cell_type": "code",
   "execution_count": 20,
   "metadata": {},
   "outputs": [
    {
     "data": {
      "text/plain": [
       "[[1, 2, 3, 4, 5, 47, 58, 14], [0, 1, 2, 3, 4, 5, 6, 100, 0]]"
      ]
     },
     "execution_count": 20,
     "metadata": {},
     "output_type": "execute_result"
    }
   ],
   "source": [
    "max_diff = 0\n",
    "res = []\n",
    "with open('input1.txt') as f:\n",
    "    for l in f:\n",
    "        row = [int(x) for x in l.split(\" \")]\n",
    "        count_diff = len(set(row))\n",
    "        if count_diff > max_diff:\n",
    "            res = [row]\n",
    "            max_diff = count_diff\n",
    "        elif count_diff == max_diff:\n",
    "            res.append(row)\n",
    "res\n",
    "            "
   ]
  },
  {
   "cell_type": "code",
   "execution_count": 22,
   "metadata": {},
   "outputs": [
    {
     "name": "stdout",
     "output_type": "stream",
     "text": [
      "1 2 3 4 5 47 58 14\n",
      "0 1 2 3 4 5 6 100 0\n"
     ]
    }
   ],
   "source": [
    "for row in res:\n",
    "    print(\" \".join(str(x) for x in row))"
   ]
  },
  {
   "cell_type": "markdown",
   "metadata": {},
   "source": [
    "Вариант 2. В файле input.txt записан список слов (каждое слово на новой строке)\n",
    "\n",
    "Распечатать все самые короткие слова"
   ]
  },
  {
   "cell_type": "code",
   "execution_count": 35,
   "metadata": {},
   "outputs": [
    {
     "data": {
      "text/plain": [
       "['тест', 'утка']"
      ]
     },
     "execution_count": 35,
     "metadata": {},
     "output_type": "execute_result"
    }
   ],
   "source": [
    "min_len = None\n",
    "res = []\n",
    "with open('input2.txt') as f:\n",
    "    for l in f:\n",
    "        l = l.strip()\n",
    "        if min_len is None or len(l)<min_len:\n",
    "            min_len = len(l)\n",
    "            res = [l]\n",
    "        elif min_len is not None and len(l) == min_len:\n",
    "            res.append(l)\n",
    "\n",
    "res"
   ]
  },
  {
   "cell_type": "markdown",
   "metadata": {},
   "source": [
    "# 7. Классы\n",
    "Реализовать класс **Point** – точка на плоскости с координатами x, y\n",
    "\n",
    "Реализовать метод, проверяющий равенство экземпляров класса, в котором проверяется равенство координат;\n",
    "\n",
    "Реализовать свойство(property) **quarter**, возвращающее номер четверти координатной плоскости точки. В случае если точка лежит между четвертями, то вернуть 0."
   ]
  },
  {
   "cell_type": "code",
   "execution_count": 36,
   "metadata": {},
   "outputs": [],
   "source": [
    "class Point:\n",
    "    def __init__(self, x, y):\n",
    "        self.x = x\n",
    "        self.y = y\n",
    "\n",
    "    def __eq__(self, other):\n",
    "        return self.x == other.x and self.y == other.y\n",
    "        \n",
    "    @property\n",
    "    def quarter(self):\n",
    "        if self.x > 0 and self.y > 0:\n",
    "            return 1\n",
    "        \n",
    "        if self.x < 0 and self.y > 0:\n",
    "            return 2\n",
    "        \n",
    "        if self.x < 0 and self.y < 0:\n",
    "            return 3\n",
    "        \n",
    "        if self.x > 0 and self.y < 0:\n",
    "            return 4\n",
    "        \n",
    "        return 0"
   ]
  },
  {
   "cell_type": "code",
   "execution_count": null,
   "metadata": {},
   "outputs": [],
   "source": []
  }
 ],
 "metadata": {
  "kernelspec": {
   "display_name": "Python 3",
   "language": "python",
   "name": "python3"
  },
  "language_info": {
   "codemirror_mode": {
    "name": "ipython",
    "version": 3
   },
   "file_extension": ".py",
   "mimetype": "text/x-python",
   "name": "python",
   "nbconvert_exporter": "python",
   "pygments_lexer": "ipython3",
   "version": "3.6.5"
  },
  "nbTranslate": {
   "displayLangs": [
    "ru",
    "en"
   ],
   "hotkey": "alt-t",
   "langInMainMenu": true,
   "sourceLang": "en",
   "targetLang": "ru",
   "useGoogleTranslate": true
  },
  "toc": {
   "nav_menu": {},
   "number_sections": true,
   "sideBar": true,
   "skip_h1_title": false,
   "title_cell": "Table of Contents",
   "title_sidebar": "Contents",
   "toc_cell": false,
   "toc_position": {},
   "toc_section_display": true,
   "toc_window_display": false
  },
  "varInspector": {
   "cols": {
    "lenName": 16,
    "lenType": 16,
    "lenVar": 40
   },
   "kernels_config": {
    "python": {
     "delete_cmd_postfix": "",
     "delete_cmd_prefix": "del ",
     "library": "var_list.py",
     "varRefreshCmd": "print(var_dic_list())"
    },
    "r": {
     "delete_cmd_postfix": ") ",
     "delete_cmd_prefix": "rm(",
     "library": "var_list.r",
     "varRefreshCmd": "cat(var_dic_list()) "
    }
   },
   "types_to_exclude": [
    "module",
    "function",
    "builtin_function_or_method",
    "instance",
    "_Feature"
   ],
   "window_display": false
  }
 },
 "nbformat": 4,
 "nbformat_minor": 2
}
